{
 "cells": [
  {
   "cell_type": "code",
   "execution_count": 1,
   "metadata": {},
   "outputs": [],
   "source": [
    "import random\n",
    "import pyautogui\n",
    "import numpy as np    "
   ]
  },
  {
   "cell_type": "code",
   "execution_count": 2,
   "metadata": {},
   "outputs": [
    {
     "name": "stdout",
     "output_type": "stream",
     "text": [
      "souradnice: Point(x=1803, y=194)\n",
      "seminko: 44.68780594300866\n",
      "46\n",
      "46\n",
      "46\n"
     ]
    }
   ],
   "source": [
    "\n",
    "# vlastni generator cisel\n",
    "\n",
    "def precti_souradnice_mysi():\n",
    "    # zahyceni souradnic kurzoru\n",
    "    # (x,y)\n",
    "    data = pyautogui.position()\n",
    "    \n",
    "    if data[0] + data[1] > 1000:\n",
    "        s_cislo = np.sqrt(data[0] + data[1])\n",
    "    else:\n",
    "        s_cislo = data[0] + data[1] \n",
    "        s_cislo *= data[0]\n",
    "        \n",
    "    print(f\"souradnice: {data}\\nseminko: {s_cislo}\")\n",
    "    \n",
    "    return s_cislo\n",
    "\n",
    "def vypis_cislo(s_cislo):\n",
    "    for i in range(3):\n",
    "        random.seed(s_cislo)\n",
    "        cislo = random.randint(25, 50)\n",
    "        print(cislo)\n",
    "    \n",
    "s_cislo = precti_souradnice_mysi()\n",
    "vypis_cislo(s_cislo)"
   ]
  }
 ],
 "metadata": {
  "kernelspec": {
   "display_name": "Python 3",
   "language": "python",
   "name": "python3"
  },
  "language_info": {
   "codemirror_mode": {
    "name": "ipython",
    "version": 3
   },
   "file_extension": ".py",
   "mimetype": "text/x-python",
   "name": "python",
   "nbconvert_exporter": "python",
   "pygments_lexer": "ipython3",
   "version": "3.11.1"
  },
  "orig_nbformat": 4
 },
 "nbformat": 4,
 "nbformat_minor": 2
}
