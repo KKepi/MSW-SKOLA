{
 "cells": [
  {
   "cell_type": "code",
   "execution_count": 1,
   "metadata": {},
   "outputs": [],
   "source": [
    "import time"
   ]
  },
  {
   "cell_type": "code",
   "execution_count": 2,
   "metadata": {},
   "outputs": [],
   "source": [
    "\n",
    "# bisekce\n",
    "\n",
    "def bisekce(funkce, a, b, prijatelna_chyba):                       # funkce - rovnice\n",
    "                                                                   # a - dolni hranice\n",
    "                                                                   # b - horni hranice\n",
    "    chyba = abs(b-a)                                               # prijatelna_chyba - o kolik se muze lisit a,b - lze predstavit jako derivaci\n",
    "    \n",
    "    def f(x):\n",
    "        f = eval(funkce)\n",
    "        return f\n",
    "    \n",
    "    while chyba > prijatelna_chyba:\n",
    "        c = (b+a) / 2\n",
    "        \n",
    "        if f(a)*f(b) >= 0:\n",
    "            print(\"chyba!\")\n",
    "        \n",
    "        elif f(c) * f(a) < 0:\n",
    "            b = c\n",
    "            chyba = abs(b-a)\n",
    "            \n",
    "        elif f(c) * f(b) < 0:\n",
    "            a = c\n",
    "            chyba = abs(b-a)\n",
    "            \n",
    "        else:\n",
    "            print(\"chyba\")\n",
    "        \n",
    "    return (a+b)/2"
   ]
  },
  {
   "cell_type": "code",
   "execution_count": 3,
   "metadata": {},
   "outputs": [],
   "source": [
    "\n",
    "# netwon\n",
    "def newton_metoda(funkce, derivace, x, n):                 # x - \n",
    "    \n",
    "    def f(x):\n",
    "        f = eval(funkce)\n",
    "        return f\n",
    "    \n",
    "    def df(x):\n",
    "        df = eval(derivace)\n",
    "        return df\n",
    "    \n",
    "    for i in range(1,n):\n",
    "        i = x - (f(x)/df(x))\n",
    "        x = i\n",
    "        \n",
    "    return x"
   ]
  },
  {
   "cell_type": "code",
   "execution_count": 4,
   "metadata": {},
   "outputs": [
    {
     "name": "stdout",
     "output_type": "stream",
     "text": [
      "**BISEKCE**\n",
      "\n",
      "*kvadraticka funkce*\n",
      " rovnice: (4*x **3) + 3*x -3\n",
      " koren = 0.64453125\n",
      " cas = 0.0 sekund\n",
      "\n",
      "*exponencialni funkce*\n",
      " rovnice: 4**x\n",
      " koren = 0.56640625\n",
      " cas = 0.0 sekund\n",
      "\n",
      "*linearni funkce*\n",
      " rovnice: 18*x - 36\n",
      " koren = 2.01171875\n",
      " cas = 0.0 sekund\n",
      "\n"
     ]
    }
   ],
   "source": [
    "print(\"**BISEKCE**\\n\")\n",
    "\n",
    "# kvadraticka funkce\n",
    "print(\"*kvadraticka funkce*\")\n",
    "b_s1 = time.time()\n",
    "b_vysledek1 = bisekce(\"(4*x **3) + 3*x -3\", 0, 10, 0.05)\n",
    "b_k1 = time.time()\n",
    "b_cas1 = b_k1-b_s1\n",
    "print(f\" rovnice: (4*x **3) + 3*x -3\\n koren = {b_vysledek1}\\n cas = {b_cas1} sekund\\n\")\n",
    "\n",
    "# exponencialni funkce\n",
    "print(\"*exponencialni funkce*\")\n",
    "b_s2 = time.time()\n",
    "b_vysledek2 = bisekce(\"(4**x) + 3*x -4\", 0, 10, 0.05)\n",
    "b_k2 = time.time()\n",
    "b_cas2 = b_k2-b_s2\n",
    "print(f\" rovnice: 4**x\\n koren = {b_vysledek2}\\n cas = {b_cas2} sekund\\n\")\n",
    "\n",
    "# linearni funkce\n",
    "print(\"*linearni funkce*\")\n",
    "b_s3 = time.time()\n",
    "b_vysledek3 = bisekce(\"18*x - 36\", 0, 5, 0.05)\n",
    "b_k3 = time.time()\n",
    "b_cas3 = b_k3-b_s3\n",
    "print(f\" rovnice: 18*x - 36\\n koren = {b_vysledek3}\\n cas = {b_cas3} sekund\\n\")"
   ]
  },
  {
   "cell_type": "code",
   "execution_count": 5,
   "metadata": {},
   "outputs": [
    {
     "name": "stdout",
     "output_type": "stream",
     "text": [
      "**NEWTON**\n",
      "*kvadraticka funkce*\n",
      " rovnice: (4x **3) + 3*x -3\n",
      " koren = 0.6439548753520636\n",
      " cas = 0.0 sekund\n",
      "\n",
      "*exponencialni funkce*\n",
      " rovnice: 4**x\n",
      " koren = 0.5507246376811592\n",
      " cas = 0.0 sekund\n",
      "\n",
      "*linearni funkce*\n",
      " rovnice: 18*x - 36\n",
      " koren = 2.01171875\n",
      " cas = 0.0 sekund\n",
      "\n"
     ]
    }
   ],
   "source": [
    "# newton metoda\n",
    "print(\"**NEWTON**\")\n",
    "\n",
    "# kvadraticka funkce\n",
    "print(\"*kvadraticka funkce*\")\n",
    "n_s1 = time.time()\n",
    "n_vysledek1 = newton_metoda(\"(4*x **3) + 3*x -3\", \"12*x**2+3\", 1, 10)\n",
    "n_k1 = time.time()\n",
    "n_cas1 = n_k1-n_s1\n",
    "print(f\" rovnice: (4x **3) + 3*x -3\\n koren = {n_vysledek1}\\n cas = {n_cas1} sekund\\n\")\n",
    "\n",
    "# exponencialni funkce\n",
    "print(\"*exponencialni funkce*\")\n",
    "n_s2 = time.time()\n",
    "n_vysledek2 = newton_metoda(\"(4**x)\", \"1.38*(4**x)\", 2, 3)\n",
    "n_k2 = time.time()\n",
    "n_cas2 = b_k2-b_s2\n",
    "print(f\" rovnice: 4**x\\n koren = {n_vysledek2}\\n cas = {n_cas2} sekund\\n\")\n",
    "\n",
    "# linearni funkce\n",
    "print(\"*linearni funkce*\")\n",
    "n_s3 = time.time()\n",
    "n_vysledek3 = newton_metoda(\"18*x -36\", \"18\", 1, 10)\n",
    "n_k3 = time.time()\n",
    "n_cas3 = n_k3-n_s3\n",
    "print(f\" rovnice: 18*x - 36\\n koren = {b_vysledek3}\\n cas = {b_cas3} sekund\\n\")"
   ]
  }
 ],
 "metadata": {
  "kernelspec": {
   "display_name": "Python 3",
   "language": "python",
   "name": "python3"
  },
  "language_info": {
   "codemirror_mode": {
    "name": "ipython",
    "version": 3
   },
   "file_extension": ".py",
   "mimetype": "text/x-python",
   "name": "python",
   "nbconvert_exporter": "python",
   "pygments_lexer": "ipython3",
   "version": "3.11.1"
  },
  "orig_nbformat": 4
 },
 "nbformat": 4,
 "nbformat_minor": 2
}
