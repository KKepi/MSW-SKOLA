{
 "cells": [
  {
   "cell_type": "code",
   "execution_count": 1,
   "metadata": {},
   "outputs": [],
   "source": [
    "# Knihovny a moduly pro matematické výpočty\n",
    "\n",
    "import numpy as np\n",
    "import sympy\n",
    "from sympy import Symbol\n",
    "import scipy.linalg\n",
    "from scipy.linalg import solve\n",
    "sympy.init_printing()"
   ]
  },
  {
   "cell_type": "code",
   "execution_count": 2,
   "metadata": {},
   "outputs": [
    {
     "name": "stdout",
     "output_type": "stream",
     "text": [
      "nasobeni matice vektorem\n",
      "A x 5 = \n",
      "[[15 35 40]\n",
      " [35 20  5]]\n",
      "\n"
     ]
    }
   ],
   "source": [
    "# nasobeni matice vektorem\n",
    "print(\"nasobeni matice vektorem\")\n",
    "matice = np.array([[3, 7, 8],[7, 4, 1]])\n",
    "skalar = 5\n",
    "\n",
    "vysledek_matice = matice * skalar\n",
    "print(f\"A x {skalar} = \")\n",
    "print(f\"{vysledek_matice}\\n\")"
   ]
  },
  {
   "cell_type": "code",
   "execution_count": 3,
   "metadata": {},
   "outputs": [
    {
     "name": "stdout",
     "output_type": "stream",
     "text": [
      "nasobeni matic\n",
      "A.B = C\n",
      "C = [[ 36 189]\n",
      " [ 27 243]]\n",
      "\n"
     ]
    }
   ],
   "source": [
    "# nasobeni matic\n",
    "print(\"nasobeni matic\")\n",
    "A = np.array([[7, 8], [4, 11]])\n",
    "B = np.array([[4,3], [1, 21]])\n",
    "C = np.matmul(A,B)\n",
    "print(f\"A.B = C\")\n",
    "print(f\"C = {C}\\n\")"
   ]
  },
  {
   "cell_type": "code",
   "execution_count": 4,
   "metadata": {},
   "outputs": [
    {
     "name": "stdout",
     "output_type": "stream",
     "text": [
      "derivace rovnice\n",
      "(x**3 + 7)' = 3*x**2\n",
      "\n"
     ]
    }
   ],
   "source": [
    "# derivace\n",
    "print(\"derivace rovnice\")\n",
    "x = Symbol(\"x\")\n",
    "fx_rovnice = x**3 + 7\n",
    "fx_derivace = fx_rovnice.diff(x)\n",
    "print(f\"({fx_rovnice})' = {fx_derivace}\\n\")"
   ]
  },
  {
   "cell_type": "code",
   "execution_count": 5,
   "metadata": {},
   "outputs": [
    {
     "name": "stdout",
     "output_type": "stream",
     "text": [
      "linearni rovnice\n",
      "A = [[ 7  8]\n",
      " [ 4 11]]\n",
      "B = [[ 4  3]\n",
      " [ 1 21]]\n",
      "A . x = b\n",
      "x = [0.02222222 0.35555556]\n",
      "\n"
     ]
    }
   ],
   "source": [
    "# linearni rovnice\n",
    "print(\"linearni rovnice\")\n",
    "A = np.array([[7, 8], [4, 11]])         # matice vytvorena z koeficientu u x\n",
    "b = np.array([3, 4])                    # b\n",
    "print(f\"A = {A}\")\n",
    "print(f\"B = {B}\")\n",
    "print(\"A . x = b\")\n",
    "vysledek = np.linalg.solve(A, b)\n",
    "print(f\"x = {vysledek}\\n\")"
   ]
  },
  {
   "cell_type": "code",
   "execution_count": 6,
   "metadata": {},
   "outputs": [
    {
     "name": "stdout",
     "output_type": "stream",
     "text": [
      "nelinearni rovnice\n",
      "Eq(x**2 + y**2 + z, 1) Eq(2*x + y**2 + z, 0) Eq(4*x**2 + y**2, z)\n",
      "reseni:\n"
     ]
    },
    {
     "data": {
      "image/png": "[encoded data removed]",
      "text/latex": [
       "$\\displaystyle \\left[ \\left( 1 - \\sqrt{2}, \\  - \\sqrt{-7 + 5 \\sqrt{2}}, \\  5 - 3 \\sqrt{2}\\right), \\  \\left( 1 - \\sqrt{2}, \\  \\sqrt{-7 + 5 \\sqrt{2}}, \\  5 - 3 \\sqrt{2}\\right), \\  \\left( 1 + \\sqrt{2}, \\  - \\sqrt{- 5 \\sqrt{2} - 7}, \\  3 \\sqrt{2} + 5\\right), \\  \\left( 1 + \\sqrt{2}, \\  \\sqrt{- 5 \\sqrt{2} - 7}, \\  3 \\sqrt{2} + 5\\right)\\right]$"
      ],
      "text/plain": [
       "⎡⎛           ___________          ⎞  ⎛          ___________          ⎞  ⎛     \n",
       "⎣⎝1 - √2, -╲╱ -7 + 5⋅√2 , 5 - 3⋅√2⎠, ⎝1 - √2, ╲╱ -7 + 5⋅√2 , 5 - 3⋅√2⎠, ⎝1 + √\n",
       "\n",
       "      ___________          ⎞  ⎛          ___________          ⎞⎤\n",
       "2, -╲╱ -5⋅√2 - 7 , 3⋅√2 + 5⎠, ⎝1 + √2, ╲╱ -5⋅√2 - 7 , 3⋅√2 + 5⎠⎦"
      ]
     },
     "execution_count": 6,
     "metadata": {},
     "output_type": "execute_result"
    }
   ],
   "source": [
    "\n",
    "# nelinearni rovnice, soustava rovnic\n",
    "print(\"nelinearni rovnice\")\n",
    "x,y,z = sympy.symbols('x,y,z')       # nezname             \n",
    "f = sympy.Eq(x**2+y**2+z,1)          # rovnice f\n",
    "g = sympy.Eq(2*x+y**2+z,0)           # rovnice g\n",
    "h = sympy.Eq(4*x**2+y**2,z)          # rovnice h\n",
    "print(f,g,h)\n",
    "print(\"reseni:\")\n",
    "sympy.solve([f,g,h],(x,y,z))         # graficke zobrazeni"
   ]
  }
 ],
 "metadata": {
  "kernelspec": {
   "display_name": "Python 3",
   "language": "python",
   "name": "python3"
  },
  "language_info": {
   "codemirror_mode": {
    "name": "ipython",
    "version": 3
   },
   "file_extension": ".py",
   "mimetype": "text/x-python",
   "name": "python",
   "nbconvert_exporter": "python",
   "pygments_lexer": "ipython3",
   "version": "3.11.1"
  },
  "orig_nbformat": 4
 },
 "nbformat": 4,
 "nbformat_minor": 2
}
